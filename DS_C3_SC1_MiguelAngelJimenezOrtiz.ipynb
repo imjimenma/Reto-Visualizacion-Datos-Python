{
  "nbformat": 4,
  "nbformat_minor": 0,
  "metadata": {
    "colab": {
      "provenance": []
    },
    "kernelspec": {
      "display_name": "Python 3",
      "name": "python3"
    }
  },
  "cells": [
    {
      "cell_type": "markdown",
      "metadata": {
        "id": "4N0VOscUBiUc"
      },
      "source": [
        "**DS_C3_SC1 - PLATAFORMAS DE VISUALIZACIÓN**\n",
        "\n",
        "---\n",
        "\n",
        "**Reto: Explorando el índice de felicidad**"
      ]
    },
    {
      "cell_type": "markdown",
      "metadata": {
        "id": "kve5USK4aZSJ"
      },
      "source": [
        "NOMBRE DEL PARTICIPANTE: <u>Miguel Ángel Jiménez Ortiz</u>"
      ]
    },
    {
      "cell_type": "markdown",
      "metadata": {
        "id": "1qCEU0iRbU6B"
      },
      "source": [
        "1.\tGenera una libreta en Google Colab para el reto, cuya estructura esté basada en los análisis solicitados."
      ]
    },
    {
      "cell_type": "code",
      "metadata": {
        "id": "eOVDmi-44VMK"
      },
      "source": [
        "import pandas as pd\n",
        "import seaborn as sns\n",
        "import matplotlib.pyplot as plt\n",
        "import numpy as np"
      ],
      "execution_count": 519,
      "outputs": []
    },
    {
      "cell_type": "markdown",
      "metadata": {
        "id": "y0UzdtbubXzs"
      },
      "source": [
        "2.\tDescarga el archivo: happiness_report.csv y guarda, en un dataframe (`happiness`), todos sus registros."
      ]
    },
    {
      "cell_type": "code",
      "metadata": {
        "id": "WJQosv5Ma1nE",
        "colab": {
          "base_uri": "https://localhost:8080/",
          "height": 609
        },
        "outputId": "a6b7aa35-cbcd-4846-8d05-0fa71cac793f"
      },
      "source": [
        "from google.colab import drive\n",
        "drive.mount('/content/drive')\n",
        "\n",
        "route = \"./drive/MyDrive/DSFiles\"\n",
        "happiness = pd.read_csv(f\"{route}/happiness_report.csv\")\n",
        "happiness"
      ],
      "execution_count": 520,
      "outputs": [
        {
          "output_type": "stream",
          "name": "stdout",
          "text": [
            "Drive already mounted at /content/drive; to attempt to forcibly remount, call drive.mount(\"/content/drive\", force_remount=True).\n"
          ]
        },
        {
          "output_type": "execute_result",
          "data": {
            "text/plain": [
              "     Overall rank         Country or region  Score  GDP per capita  \\\n",
              "0               1                   Finland  7.769           1.340   \n",
              "1               2                   Denmark  7.600           1.383   \n",
              "2               3                    Norway  7.554           1.488   \n",
              "3               4                   Iceland  7.494           1.380   \n",
              "4               5               Netherlands  7.488           1.396   \n",
              "..            ...                       ...    ...             ...   \n",
              "151           152                    Rwanda  3.334           0.359   \n",
              "152           153                  Tanzania  3.231           0.476   \n",
              "153           154               Afghanistan  3.203           0.350   \n",
              "154           155  Central African Republic  3.083           0.026   \n",
              "155           156               South Sudan  2.853           0.306   \n",
              "\n",
              "     Social support  Healthy life expectancy  Freedom to make life choices  \\\n",
              "0             1.587                    0.986                         0.596   \n",
              "1             1.573                    0.996                         0.592   \n",
              "2             1.582                    1.028                         0.603   \n",
              "3             1.624                    1.026                         0.591   \n",
              "4             1.522                    0.999                         0.557   \n",
              "..              ...                      ...                           ...   \n",
              "151           0.711                    0.614                         0.555   \n",
              "152           0.885                    0.499                         0.417   \n",
              "153           0.517                    0.361                         0.000   \n",
              "154           0.000                    0.105                         0.225   \n",
              "155           0.575                    0.295                         0.010   \n",
              "\n",
              "     Generosity  Perceptions of corruption  \n",
              "0         0.153                      0.393  \n",
              "1         0.252                      0.410  \n",
              "2         0.271                      0.341  \n",
              "3         0.354                      0.118  \n",
              "4         0.322                      0.298  \n",
              "..          ...                        ...  \n",
              "151       0.217                      0.411  \n",
              "152       0.276                      0.147  \n",
              "153       0.158                      0.025  \n",
              "154       0.235                      0.035  \n",
              "155       0.202                      0.091  \n",
              "\n",
              "[156 rows x 9 columns]"
            ],
            "text/html": [
              "\n",
              "  <div id=\"df-498e5718-54a2-4784-b965-15a9f1d53065\">\n",
              "    <div class=\"colab-df-container\">\n",
              "      <div>\n",
              "<style scoped>\n",
              "    .dataframe tbody tr th:only-of-type {\n",
              "        vertical-align: middle;\n",
              "    }\n",
              "\n",
              "    .dataframe tbody tr th {\n",
              "        vertical-align: top;\n",
              "    }\n",
              "\n",
              "    .dataframe thead th {\n",
              "        text-align: right;\n",
              "    }\n",
              "</style>\n",
              "<table border=\"1\" class=\"dataframe\">\n",
              "  <thead>\n",
              "    <tr style=\"text-align: right;\">\n",
              "      <th></th>\n",
              "      <th>Overall rank</th>\n",
              "      <th>Country or region</th>\n",
              "      <th>Score</th>\n",
              "      <th>GDP per capita</th>\n",
              "      <th>Social support</th>\n",
              "      <th>Healthy life expectancy</th>\n",
              "      <th>Freedom to make life choices</th>\n",
              "      <th>Generosity</th>\n",
              "      <th>Perceptions of corruption</th>\n",
              "    </tr>\n",
              "  </thead>\n",
              "  <tbody>\n",
              "    <tr>\n",
              "      <th>0</th>\n",
              "      <td>1</td>\n",
              "      <td>Finland</td>\n",
              "      <td>7.769</td>\n",
              "      <td>1.340</td>\n",
              "      <td>1.587</td>\n",
              "      <td>0.986</td>\n",
              "      <td>0.596</td>\n",
              "      <td>0.153</td>\n",
              "      <td>0.393</td>\n",
              "    </tr>\n",
              "    <tr>\n",
              "      <th>1</th>\n",
              "      <td>2</td>\n",
              "      <td>Denmark</td>\n",
              "      <td>7.600</td>\n",
              "      <td>1.383</td>\n",
              "      <td>1.573</td>\n",
              "      <td>0.996</td>\n",
              "      <td>0.592</td>\n",
              "      <td>0.252</td>\n",
              "      <td>0.410</td>\n",
              "    </tr>\n",
              "    <tr>\n",
              "      <th>2</th>\n",
              "      <td>3</td>\n",
              "      <td>Norway</td>\n",
              "      <td>7.554</td>\n",
              "      <td>1.488</td>\n",
              "      <td>1.582</td>\n",
              "      <td>1.028</td>\n",
              "      <td>0.603</td>\n",
              "      <td>0.271</td>\n",
              "      <td>0.341</td>\n",
              "    </tr>\n",
              "    <tr>\n",
              "      <th>3</th>\n",
              "      <td>4</td>\n",
              "      <td>Iceland</td>\n",
              "      <td>7.494</td>\n",
              "      <td>1.380</td>\n",
              "      <td>1.624</td>\n",
              "      <td>1.026</td>\n",
              "      <td>0.591</td>\n",
              "      <td>0.354</td>\n",
              "      <td>0.118</td>\n",
              "    </tr>\n",
              "    <tr>\n",
              "      <th>4</th>\n",
              "      <td>5</td>\n",
              "      <td>Netherlands</td>\n",
              "      <td>7.488</td>\n",
              "      <td>1.396</td>\n",
              "      <td>1.522</td>\n",
              "      <td>0.999</td>\n",
              "      <td>0.557</td>\n",
              "      <td>0.322</td>\n",
              "      <td>0.298</td>\n",
              "    </tr>\n",
              "    <tr>\n",
              "      <th>...</th>\n",
              "      <td>...</td>\n",
              "      <td>...</td>\n",
              "      <td>...</td>\n",
              "      <td>...</td>\n",
              "      <td>...</td>\n",
              "      <td>...</td>\n",
              "      <td>...</td>\n",
              "      <td>...</td>\n",
              "      <td>...</td>\n",
              "    </tr>\n",
              "    <tr>\n",
              "      <th>151</th>\n",
              "      <td>152</td>\n",
              "      <td>Rwanda</td>\n",
              "      <td>3.334</td>\n",
              "      <td>0.359</td>\n",
              "      <td>0.711</td>\n",
              "      <td>0.614</td>\n",
              "      <td>0.555</td>\n",
              "      <td>0.217</td>\n",
              "      <td>0.411</td>\n",
              "    </tr>\n",
              "    <tr>\n",
              "      <th>152</th>\n",
              "      <td>153</td>\n",
              "      <td>Tanzania</td>\n",
              "      <td>3.231</td>\n",
              "      <td>0.476</td>\n",
              "      <td>0.885</td>\n",
              "      <td>0.499</td>\n",
              "      <td>0.417</td>\n",
              "      <td>0.276</td>\n",
              "      <td>0.147</td>\n",
              "    </tr>\n",
              "    <tr>\n",
              "      <th>153</th>\n",
              "      <td>154</td>\n",
              "      <td>Afghanistan</td>\n",
              "      <td>3.203</td>\n",
              "      <td>0.350</td>\n",
              "      <td>0.517</td>\n",
              "      <td>0.361</td>\n",
              "      <td>0.000</td>\n",
              "      <td>0.158</td>\n",
              "      <td>0.025</td>\n",
              "    </tr>\n",
              "    <tr>\n",
              "      <th>154</th>\n",
              "      <td>155</td>\n",
              "      <td>Central African Republic</td>\n",
              "      <td>3.083</td>\n",
              "      <td>0.026</td>\n",
              "      <td>0.000</td>\n",
              "      <td>0.105</td>\n",
              "      <td>0.225</td>\n",
              "      <td>0.235</td>\n",
              "      <td>0.035</td>\n",
              "    </tr>\n",
              "    <tr>\n",
              "      <th>155</th>\n",
              "      <td>156</td>\n",
              "      <td>South Sudan</td>\n",
              "      <td>2.853</td>\n",
              "      <td>0.306</td>\n",
              "      <td>0.575</td>\n",
              "      <td>0.295</td>\n",
              "      <td>0.010</td>\n",
              "      <td>0.202</td>\n",
              "      <td>0.091</td>\n",
              "    </tr>\n",
              "  </tbody>\n",
              "</table>\n",
              "<p>156 rows × 9 columns</p>\n",
              "</div>\n",
              "      <button class=\"colab-df-convert\" onclick=\"convertToInteractive('df-498e5718-54a2-4784-b965-15a9f1d53065')\"\n",
              "              title=\"Convert this dataframe to an interactive table.\"\n",
              "              style=\"display:none;\">\n",
              "        \n",
              "  <svg xmlns=\"http://www.w3.org/2000/svg\" height=\"24px\"viewBox=\"0 0 24 24\"\n",
              "       width=\"24px\">\n",
              "    <path d=\"M0 0h24v24H0V0z\" fill=\"none\"/>\n",
              "    <path d=\"M18.56 5.44l.94 2.06.94-2.06 2.06-.94-2.06-.94-.94-2.06-.94 2.06-2.06.94zm-11 1L8.5 8.5l.94-2.06 2.06-.94-2.06-.94L8.5 2.5l-.94 2.06-2.06.94zm10 10l.94 2.06.94-2.06 2.06-.94-2.06-.94-.94-2.06-.94 2.06-2.06.94z\"/><path d=\"M17.41 7.96l-1.37-1.37c-.4-.4-.92-.59-1.43-.59-.52 0-1.04.2-1.43.59L10.3 9.45l-7.72 7.72c-.78.78-.78 2.05 0 2.83L4 21.41c.39.39.9.59 1.41.59.51 0 1.02-.2 1.41-.59l7.78-7.78 2.81-2.81c.8-.78.8-2.07 0-2.86zM5.41 20L4 18.59l7.72-7.72 1.47 1.35L5.41 20z\"/>\n",
              "  </svg>\n",
              "      </button>\n",
              "      \n",
              "  <style>\n",
              "    .colab-df-container {\n",
              "      display:flex;\n",
              "      flex-wrap:wrap;\n",
              "      gap: 12px;\n",
              "    }\n",
              "\n",
              "    .colab-df-convert {\n",
              "      background-color: #E8F0FE;\n",
              "      border: none;\n",
              "      border-radius: 50%;\n",
              "      cursor: pointer;\n",
              "      display: none;\n",
              "      fill: #1967D2;\n",
              "      height: 32px;\n",
              "      padding: 0 0 0 0;\n",
              "      width: 32px;\n",
              "    }\n",
              "\n",
              "    .colab-df-convert:hover {\n",
              "      background-color: #E2EBFA;\n",
              "      box-shadow: 0px 1px 2px rgba(60, 64, 67, 0.3), 0px 1px 3px 1px rgba(60, 64, 67, 0.15);\n",
              "      fill: #174EA6;\n",
              "    }\n",
              "\n",
              "    [theme=dark] .colab-df-convert {\n",
              "      background-color: #3B4455;\n",
              "      fill: #D2E3FC;\n",
              "    }\n",
              "\n",
              "    [theme=dark] .colab-df-convert:hover {\n",
              "      background-color: #434B5C;\n",
              "      box-shadow: 0px 1px 3px 1px rgba(0, 0, 0, 0.15);\n",
              "      filter: drop-shadow(0px 1px 2px rgba(0, 0, 0, 0.3));\n",
              "      fill: #FFFFFF;\n",
              "    }\n",
              "  </style>\n",
              "\n",
              "      <script>\n",
              "        const buttonEl =\n",
              "          document.querySelector('#df-498e5718-54a2-4784-b965-15a9f1d53065 button.colab-df-convert');\n",
              "        buttonEl.style.display =\n",
              "          google.colab.kernel.accessAllowed ? 'block' : 'none';\n",
              "\n",
              "        async function convertToInteractive(key) {\n",
              "          const element = document.querySelector('#df-498e5718-54a2-4784-b965-15a9f1d53065');\n",
              "          const dataTable =\n",
              "            await google.colab.kernel.invokeFunction('convertToInteractive',\n",
              "                                                     [key], {});\n",
              "          if (!dataTable) return;\n",
              "\n",
              "          const docLinkHtml = 'Like what you see? Visit the ' +\n",
              "            '<a target=\"_blank\" href=https://colab.research.google.com/notebooks/data_table.ipynb>data table notebook</a>'\n",
              "            + ' to learn more about interactive tables.';\n",
              "          element.innerHTML = '';\n",
              "          dataTable['output_type'] = 'display_data';\n",
              "          await google.colab.output.renderOutput(dataTable, element);\n",
              "          const docLink = document.createElement('div');\n",
              "          docLink.innerHTML = docLinkHtml;\n",
              "          element.appendChild(docLink);\n",
              "        }\n",
              "      </script>\n",
              "    </div>\n",
              "  </div>\n",
              "  "
            ]
          },
          "metadata": {},
          "execution_count": 520
        }
      ]
    },
    {
      "cell_type": "markdown",
      "metadata": {
        "id": "OH-VQSZIbhFL"
      },
      "source": [
        "3.\tA partir del dataframe happiness obtén otro (`mexico`) donde sólo almacenes la información de México. Haz que la columna `Country or region` quede como índice. "
      ]
    },
    {
      "cell_type": "code",
      "metadata": {
        "id": "ER5r1ZHwa2L-",
        "colab": {
          "base_uri": "https://localhost:8080/",
          "height": 263
        },
        "outputId": "129adfe2-f4d0-4b94-aef5-44126a73ef07"
      },
      "source": [
        "mexico = happiness[happiness['Country or region'] == \"Mexico\"]\n",
        "mexico.set_index(\"Country or region\", inplace=True)\n",
        "mexico"
      ],
      "execution_count": 521,
      "outputs": [
        {
          "output_type": "execute_result",
          "data": {
            "text/plain": [
              "                   Overall rank  Score  GDP per capita  Social support  \\\n",
              "Country or region                                                        \n",
              "Mexico                       23  6.595            1.07           1.323   \n",
              "\n",
              "                   Healthy life expectancy  Freedom to make life choices  \\\n",
              "Country or region                                                          \n",
              "Mexico                               0.861                         0.433   \n",
              "\n",
              "                   Generosity  Perceptions of corruption  \n",
              "Country or region                                         \n",
              "Mexico                  0.074                      0.073  "
            ],
            "text/html": [
              "\n",
              "  <div id=\"df-004663e9-cbbf-400f-bd2f-865e85d131ed\">\n",
              "    <div class=\"colab-df-container\">\n",
              "      <div>\n",
              "<style scoped>\n",
              "    .dataframe tbody tr th:only-of-type {\n",
              "        vertical-align: middle;\n",
              "    }\n",
              "\n",
              "    .dataframe tbody tr th {\n",
              "        vertical-align: top;\n",
              "    }\n",
              "\n",
              "    .dataframe thead th {\n",
              "        text-align: right;\n",
              "    }\n",
              "</style>\n",
              "<table border=\"1\" class=\"dataframe\">\n",
              "  <thead>\n",
              "    <tr style=\"text-align: right;\">\n",
              "      <th></th>\n",
              "      <th>Overall rank</th>\n",
              "      <th>Score</th>\n",
              "      <th>GDP per capita</th>\n",
              "      <th>Social support</th>\n",
              "      <th>Healthy life expectancy</th>\n",
              "      <th>Freedom to make life choices</th>\n",
              "      <th>Generosity</th>\n",
              "      <th>Perceptions of corruption</th>\n",
              "    </tr>\n",
              "    <tr>\n",
              "      <th>Country or region</th>\n",
              "      <th></th>\n",
              "      <th></th>\n",
              "      <th></th>\n",
              "      <th></th>\n",
              "      <th></th>\n",
              "      <th></th>\n",
              "      <th></th>\n",
              "      <th></th>\n",
              "    </tr>\n",
              "  </thead>\n",
              "  <tbody>\n",
              "    <tr>\n",
              "      <th>Mexico</th>\n",
              "      <td>23</td>\n",
              "      <td>6.595</td>\n",
              "      <td>1.07</td>\n",
              "      <td>1.323</td>\n",
              "      <td>0.861</td>\n",
              "      <td>0.433</td>\n",
              "      <td>0.074</td>\n",
              "      <td>0.073</td>\n",
              "    </tr>\n",
              "  </tbody>\n",
              "</table>\n",
              "</div>\n",
              "      <button class=\"colab-df-convert\" onclick=\"convertToInteractive('df-004663e9-cbbf-400f-bd2f-865e85d131ed')\"\n",
              "              title=\"Convert this dataframe to an interactive table.\"\n",
              "              style=\"display:none;\">\n",
              "        \n",
              "  <svg xmlns=\"http://www.w3.org/2000/svg\" height=\"24px\"viewBox=\"0 0 24 24\"\n",
              "       width=\"24px\">\n",
              "    <path d=\"M0 0h24v24H0V0z\" fill=\"none\"/>\n",
              "    <path d=\"M18.56 5.44l.94 2.06.94-2.06 2.06-.94-2.06-.94-.94-2.06-.94 2.06-2.06.94zm-11 1L8.5 8.5l.94-2.06 2.06-.94-2.06-.94L8.5 2.5l-.94 2.06-2.06.94zm10 10l.94 2.06.94-2.06 2.06-.94-2.06-.94-.94-2.06-.94 2.06-2.06.94z\"/><path d=\"M17.41 7.96l-1.37-1.37c-.4-.4-.92-.59-1.43-.59-.52 0-1.04.2-1.43.59L10.3 9.45l-7.72 7.72c-.78.78-.78 2.05 0 2.83L4 21.41c.39.39.9.59 1.41.59.51 0 1.02-.2 1.41-.59l7.78-7.78 2.81-2.81c.8-.78.8-2.07 0-2.86zM5.41 20L4 18.59l7.72-7.72 1.47 1.35L5.41 20z\"/>\n",
              "  </svg>\n",
              "      </button>\n",
              "      \n",
              "  <style>\n",
              "    .colab-df-container {\n",
              "      display:flex;\n",
              "      flex-wrap:wrap;\n",
              "      gap: 12px;\n",
              "    }\n",
              "\n",
              "    .colab-df-convert {\n",
              "      background-color: #E8F0FE;\n",
              "      border: none;\n",
              "      border-radius: 50%;\n",
              "      cursor: pointer;\n",
              "      display: none;\n",
              "      fill: #1967D2;\n",
              "      height: 32px;\n",
              "      padding: 0 0 0 0;\n",
              "      width: 32px;\n",
              "    }\n",
              "\n",
              "    .colab-df-convert:hover {\n",
              "      background-color: #E2EBFA;\n",
              "      box-shadow: 0px 1px 2px rgba(60, 64, 67, 0.3), 0px 1px 3px 1px rgba(60, 64, 67, 0.15);\n",
              "      fill: #174EA6;\n",
              "    }\n",
              "\n",
              "    [theme=dark] .colab-df-convert {\n",
              "      background-color: #3B4455;\n",
              "      fill: #D2E3FC;\n",
              "    }\n",
              "\n",
              "    [theme=dark] .colab-df-convert:hover {\n",
              "      background-color: #434B5C;\n",
              "      box-shadow: 0px 1px 3px 1px rgba(0, 0, 0, 0.15);\n",
              "      filter: drop-shadow(0px 1px 2px rgba(0, 0, 0, 0.3));\n",
              "      fill: #FFFFFF;\n",
              "    }\n",
              "  </style>\n",
              "\n",
              "      <script>\n",
              "        const buttonEl =\n",
              "          document.querySelector('#df-004663e9-cbbf-400f-bd2f-865e85d131ed button.colab-df-convert');\n",
              "        buttonEl.style.display =\n",
              "          google.colab.kernel.accessAllowed ? 'block' : 'none';\n",
              "\n",
              "        async function convertToInteractive(key) {\n",
              "          const element = document.querySelector('#df-004663e9-cbbf-400f-bd2f-865e85d131ed');\n",
              "          const dataTable =\n",
              "            await google.colab.kernel.invokeFunction('convertToInteractive',\n",
              "                                                     [key], {});\n",
              "          if (!dataTable) return;\n",
              "\n",
              "          const docLinkHtml = 'Like what you see? Visit the ' +\n",
              "            '<a target=\"_blank\" href=https://colab.research.google.com/notebooks/data_table.ipynb>data table notebook</a>'\n",
              "            + ' to learn more about interactive tables.';\n",
              "          element.innerHTML = '';\n",
              "          dataTable['output_type'] = 'display_data';\n",
              "          await google.colab.output.renderOutput(dataTable, element);\n",
              "          const docLink = document.createElement('div');\n",
              "          docLink.innerHTML = docLinkHtml;\n",
              "          element.appendChild(docLink);\n",
              "        }\n",
              "      </script>\n",
              "    </div>\n",
              "  </div>\n",
              "  "
            ]
          },
          "metadata": {},
          "execution_count": 521
        }
      ]
    },
    {
      "cell_type": "markdown",
      "metadata": {
        "id": "ZbrKhzCUXZ4i"
      },
      "source": [
        "4.\tObtén un histograma del puntaje (`score`) para identificar el rango o clase más frecuente. Ubica el valor de México con una etiqueta de texto. "
      ]
    },
    {
      "cell_type": "code",
      "metadata": {
        "id": "TVA5RlKZa24h",
        "colab": {
          "base_uri": "https://localhost:8080/",
          "height": 471
        },
        "outputId": "edf517b0-98f8-483d-868f-30f518533fa0"
      },
      "source": [
        "score = happiness[\"Score\"].round(1)\n",
        "score_min = score.min().round(1)\n",
        "score_max = score.max().round(1)\n",
        "score_range = (score_max-score_min).round()\n",
        "print(f\"Score min.: {score_min}\\n\"\n",
        "      f\"Score max.: {score_max}\\n\"\n",
        "      f\"Score range: {score_range}\")\n",
        "bins_qty = 10\n",
        "bins_step = score_range/bins_qty\n",
        "print(f\"Bin step: {bins_step}\")\n",
        "\n",
        "sns.set_palette(\"Set2\")\n",
        "score.plot(kind=\"hist\", bins=bins_qty, width=bins_step, figsize=((bins_qty-5),5), edgecolor=\"white\")\n",
        "plt.xlabel(\"Score\")\n",
        "plt.title(\"World Hapiness Report\")\n",
        "plt.xticks(np.arange(score_min, score.max()+bins_step, bins_step).round(1))\n",
        "props_bbox = {\"boxstyle\": \"circle\",\n",
        "              \"facecolor\": \"red\",\n",
        "              \"alpha\": 0.4,\n",
        "              }\n",
        "plt.text(x=mexico[\"Score\"], y=0, s=\"MEX\", bbox=props_bbox, color=\"white\", fontweight=\"bold\", horizontalalignment=\"center\")"
      ],
      "execution_count": 522,
      "outputs": [
        {
          "output_type": "stream",
          "name": "stdout",
          "text": [
            "Score min.: 2.9\n",
            "Score max.: 7.8\n",
            "Score range: 5.0\n",
            "Bin step: 0.5\n"
          ]
        },
        {
          "output_type": "execute_result",
          "data": {
            "text/plain": [
              "Text(Country or region\n",
              "Mexico    6.595\n",
              "Name: Score, dtype: float64, 0, 'MEX')"
            ]
          },
          "metadata": {},
          "execution_count": 522
        },
        {
          "output_type": "display_data",
          "data": {
            "text/plain": [
              "<Figure size 360x360 with 1 Axes>"
            ],
            "image/png": "[encoded data removed]"
          },
          "metadata": {
            "needs_background": "light"
          }
        }
      ]
    },
    {
      "cell_type": "markdown",
      "metadata": {
        "id": "p-clxBa8XgYM"
      },
      "source": [
        "5.\tConstruye un box plot para la columna esperanza de vida (`Healthy life expectancy`). Ubica el valor de México con una anotación."
      ]
    },
    {
      "cell_type": "code",
      "metadata": {
        "id": "tz5PjxoYa3wt",
        "colab": {
          "base_uri": "https://localhost:8080/",
          "height": 333
        },
        "outputId": "6d4d5b9e-0cca-4233-98df-ea23b4ad15bc"
      },
      "source": [
        "assigned_props= dict(linewidth=2.0, color=\"#66C2A5\")\n",
        "happiness.boxplot(\"Healthy life expectancy\", whiskerprops=assigned_props, boxprops=assigned_props)\n",
        "plt.title(\"World Happiness Report\")\n",
        "plt.grid(False)\n",
        "props_bbox = {\"boxstyle\": \"circle\",\n",
        "              \"facecolor\": \"red\",\n",
        "              \"alpha\": 0.4,\n",
        "              }\n",
        "plt.annotate(\"MEX\", xy=(1,mexico[\"Healthy life expectancy\"]),xytext=(1.25,mexico[\"Healthy life expectancy\"]*1.05),arrowprops=dict(arrowstyle='->'), bbox=props_bbox, color=\"white\", fontweight=\"bold\", horizontalalignment=\"center\")"
      ],
      "execution_count": 523,
      "outputs": [
        {
          "output_type": "execute_result",
          "data": {
            "text/plain": [
              "Text(1.25, Country or region\n",
              "Mexico    0.90405\n",
              "Name: Healthy life expectancy, dtype: float64, 'MEX')"
            ]
          },
          "metadata": {},
          "execution_count": 523
        },
        {
          "output_type": "display_data",
          "data": {
            "text/plain": [
              "<Figure size 432x288 with 1 Axes>"
            ],
            "image/png": "[encoded data removed]"
          },
          "metadata": {
            "needs_background": "light"
          }
        }
      ]
    },
    {
      "cell_type": "markdown",
      "metadata": {
        "id": "Qb0Nu5d1XlTb"
      },
      "source": [
        "6.\tCrea una gráfico circular para analizar en qué medida los factores contribuyen a evaluar la felicidad en México. Para ello, deberás modificar la estructura del dataframe `mexico` obtenido anteriormente."
      ]
    },
    {
      "cell_type": "code",
      "metadata": {
        "id": "xxWlX6BEa4g6",
        "colab": {
          "base_uri": "https://localhost:8080/",
          "height": 237
        },
        "outputId": "4b43585a-b0ed-402d-dd51-5c2ed0b3ac10"
      },
      "source": [
        "mexico_factors = mexico.drop(columns=[\"Overall rank\", \"Score\"], axis=1).transpose()\n",
        "mexico_factors = mexico_factors.rename(columns={\"Mexico\": \"Factors\"})\n",
        "mexico_factors"
      ],
      "execution_count": 524,
      "outputs": [
        {
          "output_type": "execute_result",
          "data": {
            "text/plain": [
              "Country or region             Factors\n",
              "GDP per capita                  1.070\n",
              "Social support                  1.323\n",
              "Healthy life expectancy         0.861\n",
              "Freedom to make life choices    0.433\n",
              "Generosity                      0.074\n",
              "Perceptions of corruption       0.073"
            ],
            "text/html": [
              "\n",
              "  <div id=\"df-e229b498-31c9-40a9-8dea-929d8fb8e6bf\">\n",
              "    <div class=\"colab-df-container\">\n",
              "      <div>\n",
              "<style scoped>\n",
              "    .dataframe tbody tr th:only-of-type {\n",
              "        vertical-align: middle;\n",
              "    }\n",
              "\n",
              "    .dataframe tbody tr th {\n",
              "        vertical-align: top;\n",
              "    }\n",
              "\n",
              "    .dataframe thead th {\n",
              "        text-align: right;\n",
              "    }\n",
              "</style>\n",
              "<table border=\"1\" class=\"dataframe\">\n",
              "  <thead>\n",
              "    <tr style=\"text-align: right;\">\n",
              "      <th>Country or region</th>\n",
              "      <th>Factors</th>\n",
              "    </tr>\n",
              "  </thead>\n",
              "  <tbody>\n",
              "    <tr>\n",
              "      <th>GDP per capita</th>\n",
              "      <td>1.070</td>\n",
              "    </tr>\n",
              "    <tr>\n",
              "      <th>Social support</th>\n",
              "      <td>1.323</td>\n",
              "    </tr>\n",
              "    <tr>\n",
              "      <th>Healthy life expectancy</th>\n",
              "      <td>0.861</td>\n",
              "    </tr>\n",
              "    <tr>\n",
              "      <th>Freedom to make life choices</th>\n",
              "      <td>0.433</td>\n",
              "    </tr>\n",
              "    <tr>\n",
              "      <th>Generosity</th>\n",
              "      <td>0.074</td>\n",
              "    </tr>\n",
              "    <tr>\n",
              "      <th>Perceptions of corruption</th>\n",
              "      <td>0.073</td>\n",
              "    </tr>\n",
              "  </tbody>\n",
              "</table>\n",
              "</div>\n",
              "      <button class=\"colab-df-convert\" onclick=\"convertToInteractive('df-e229b498-31c9-40a9-8dea-929d8fb8e6bf')\"\n",
              "              title=\"Convert this dataframe to an interactive table.\"\n",
              "              style=\"display:none;\">\n",
              "        \n",
              "  <svg xmlns=\"http://www.w3.org/2000/svg\" height=\"24px\"viewBox=\"0 0 24 24\"\n",
              "       width=\"24px\">\n",
              "    <path d=\"M0 0h24v24H0V0z\" fill=\"none\"/>\n",
              "    <path d=\"M18.56 5.44l.94 2.06.94-2.06 2.06-.94-2.06-.94-.94-2.06-.94 2.06-2.06.94zm-11 1L8.5 8.5l.94-2.06 2.06-.94-2.06-.94L8.5 2.5l-.94 2.06-2.06.94zm10 10l.94 2.06.94-2.06 2.06-.94-2.06-.94-.94-2.06-.94 2.06-2.06.94z\"/><path d=\"M17.41 7.96l-1.37-1.37c-.4-.4-.92-.59-1.43-.59-.52 0-1.04.2-1.43.59L10.3 9.45l-7.72 7.72c-.78.78-.78 2.05 0 2.83L4 21.41c.39.39.9.59 1.41.59.51 0 1.02-.2 1.41-.59l7.78-7.78 2.81-2.81c.8-.78.8-2.07 0-2.86zM5.41 20L4 18.59l7.72-7.72 1.47 1.35L5.41 20z\"/>\n",
              "  </svg>\n",
              "      </button>\n",
              "      \n",
              "  <style>\n",
              "    .colab-df-container {\n",
              "      display:flex;\n",
              "      flex-wrap:wrap;\n",
              "      gap: 12px;\n",
              "    }\n",
              "\n",
              "    .colab-df-convert {\n",
              "      background-color: #E8F0FE;\n",
              "      border: none;\n",
              "      border-radius: 50%;\n",
              "      cursor: pointer;\n",
              "      display: none;\n",
              "      fill: #1967D2;\n",
              "      height: 32px;\n",
              "      padding: 0 0 0 0;\n",
              "      width: 32px;\n",
              "    }\n",
              "\n",
              "    .colab-df-convert:hover {\n",
              "      background-color: #E2EBFA;\n",
              "      box-shadow: 0px 1px 2px rgba(60, 64, 67, 0.3), 0px 1px 3px 1px rgba(60, 64, 67, 0.15);\n",
              "      fill: #174EA6;\n",
              "    }\n",
              "\n",
              "    [theme=dark] .colab-df-convert {\n",
              "      background-color: #3B4455;\n",
              "      fill: #D2E3FC;\n",
              "    }\n",
              "\n",
              "    [theme=dark] .colab-df-convert:hover {\n",
              "      background-color: #434B5C;\n",
              "      box-shadow: 0px 1px 3px 1px rgba(0, 0, 0, 0.15);\n",
              "      filter: drop-shadow(0px 1px 2px rgba(0, 0, 0, 0.3));\n",
              "      fill: #FFFFFF;\n",
              "    }\n",
              "  </style>\n",
              "\n",
              "      <script>\n",
              "        const buttonEl =\n",
              "          document.querySelector('#df-e229b498-31c9-40a9-8dea-929d8fb8e6bf button.colab-df-convert');\n",
              "        buttonEl.style.display =\n",
              "          google.colab.kernel.accessAllowed ? 'block' : 'none';\n",
              "\n",
              "        async function convertToInteractive(key) {\n",
              "          const element = document.querySelector('#df-e229b498-31c9-40a9-8dea-929d8fb8e6bf');\n",
              "          const dataTable =\n",
              "            await google.colab.kernel.invokeFunction('convertToInteractive',\n",
              "                                                     [key], {});\n",
              "          if (!dataTable) return;\n",
              "\n",
              "          const docLinkHtml = 'Like what you see? Visit the ' +\n",
              "            '<a target=\"_blank\" href=https://colab.research.google.com/notebooks/data_table.ipynb>data table notebook</a>'\n",
              "            + ' to learn more about interactive tables.';\n",
              "          element.innerHTML = '';\n",
              "          dataTable['output_type'] = 'display_data';\n",
              "          await google.colab.output.renderOutput(dataTable, element);\n",
              "          const docLink = document.createElement('div');\n",
              "          docLink.innerHTML = docLinkHtml;\n",
              "          element.appendChild(docLink);\n",
              "        }\n",
              "      </script>\n",
              "    </div>\n",
              "  </div>\n",
              "  "
            ]
          },
          "metadata": {},
          "execution_count": 524
        }
      ]
    },
    {
      "cell_type": "code",
      "source": [
        "mexico_factors.plot.pie(y=\"Factors\", labels=mexico_factors.index, autopct=\"%1.1f%%\", legend=None, ylabel=\"\", title=\"Contribution in Mexico happiness score\")"
      ],
      "metadata": {
        "colab": {
          "base_uri": "https://localhost:8080/",
          "height": 281
        },
        "id": "Lzkm5KnQpp4o",
        "outputId": "6d051b34-e7cf-44db-a2f1-235e33492818"
      },
      "execution_count": 525,
      "outputs": [
        {
          "output_type": "execute_result",
          "data": {
            "text/plain": [
              "<matplotlib.axes._subplots.AxesSubplot at 0x7f9607825790>"
            ]
          },
          "metadata": {},
          "execution_count": 525
        },
        {
          "output_type": "display_data",
          "data": {
            "text/plain": [
              "<Figure size 432x288 with 1 Axes>"
            ],
            "image/png": "[encoded data removed]"
          },
          "metadata": {}
        }
      ]
    },
    {
      "cell_type": "markdown",
      "metadata": {
        "id": "mITjMq2JhmIQ"
      },
      "source": [
        "7.\tFiltra el dataframe para quedarte con 5 países (el más feliz, el menos feliz, México y dos más de tu interés) y visualiza en una misma gráfica los 6 factores."
      ]
    },
    {
      "cell_type": "code",
      "metadata": {
        "id": "-IEg8u9ta5yp",
        "colab": {
          "base_uri": "https://localhost:8080/",
          "height": 368
        },
        "outputId": "76a00770-c584-4c6b-acd5-77040ab961ff"
      },
      "source": [
        "happiest_country = happiness[happiness[\"Overall rank\"] == 1][\"Country or region\"].values[0]\n",
        "saddest_country = happiness[happiness[\"Overall rank\"] == (len(happiness))][\"Country or region\"].values[0]\n",
        "\n",
        "happiness_sample = happiness[(happiness[\"Country or region\"] == happiest_country) | (happiness[\"Country or region\"] == saddest_country) | (happiness[\"Country or region\"] == \"Mexico\") | (happiness[\"Country or region\"] == \"Canada\") | (happiness[\"Country or region\"] == \"Iran\")]\n",
        "happiness_sample = happiness_sample.set_index(\"Country or region\").drop(columns=[\"Overall rank\", \"Score\"])\n",
        "happiness_sample"
      ],
      "execution_count": 526,
      "outputs": [
        {
          "output_type": "execute_result",
          "data": {
            "text/plain": [
              "                   GDP per capita  Social support  Healthy life expectancy  \\\n",
              "Country or region                                                            \n",
              "Finland                     1.340           1.587                    0.986   \n",
              "Canada                      1.365           1.505                    1.039   \n",
              "Mexico                      1.070           1.323                    0.861   \n",
              "Iran                        1.100           0.842                    0.785   \n",
              "South Sudan                 0.306           0.575                    0.295   \n",
              "\n",
              "                   Freedom to make life choices  Generosity  \\\n",
              "Country or region                                             \n",
              "Finland                                   0.596       0.153   \n",
              "Canada                                    0.584       0.285   \n",
              "Mexico                                    0.433       0.074   \n",
              "Iran                                      0.305       0.270   \n",
              "South Sudan                               0.010       0.202   \n",
              "\n",
              "                   Perceptions of corruption  \n",
              "Country or region                             \n",
              "Finland                                0.393  \n",
              "Canada                                 0.308  \n",
              "Mexico                                 0.073  \n",
              "Iran                                   0.125  \n",
              "South Sudan                            0.091  "
            ],
            "text/html": [
              "\n",
              "  <div id=\"df-d618385d-51f9-42a2-a16c-27908fa88e61\">\n",
              "    <div class=\"colab-df-container\">\n",
              "      <div>\n",
              "<style scoped>\n",
              "    .dataframe tbody tr th:only-of-type {\n",
              "        vertical-align: middle;\n",
              "    }\n",
              "\n",
              "    .dataframe tbody tr th {\n",
              "        vertical-align: top;\n",
              "    }\n",
              "\n",
              "    .dataframe thead th {\n",
              "        text-align: right;\n",
              "    }\n",
              "</style>\n",
              "<table border=\"1\" class=\"dataframe\">\n",
              "  <thead>\n",
              "    <tr style=\"text-align: right;\">\n",
              "      <th></th>\n",
              "      <th>GDP per capita</th>\n",
              "      <th>Social support</th>\n",
              "      <th>Healthy life expectancy</th>\n",
              "      <th>Freedom to make life choices</th>\n",
              "      <th>Generosity</th>\n",
              "      <th>Perceptions of corruption</th>\n",
              "    </tr>\n",
              "    <tr>\n",
              "      <th>Country or region</th>\n",
              "      <th></th>\n",
              "      <th></th>\n",
              "      <th></th>\n",
              "      <th></th>\n",
              "      <th></th>\n",
              "      <th></th>\n",
              "    </tr>\n",
              "  </thead>\n",
              "  <tbody>\n",
              "    <tr>\n",
              "      <th>Finland</th>\n",
              "      <td>1.340</td>\n",
              "      <td>1.587</td>\n",
              "      <td>0.986</td>\n",
              "      <td>0.596</td>\n",
              "      <td>0.153</td>\n",
              "      <td>0.393</td>\n",
              "    </tr>\n",
              "    <tr>\n",
              "      <th>Canada</th>\n",
              "      <td>1.365</td>\n",
              "      <td>1.505</td>\n",
              "      <td>1.039</td>\n",
              "      <td>0.584</td>\n",
              "      <td>0.285</td>\n",
              "      <td>0.308</td>\n",
              "    </tr>\n",
              "    <tr>\n",
              "      <th>Mexico</th>\n",
              "      <td>1.070</td>\n",
              "      <td>1.323</td>\n",
              "      <td>0.861</td>\n",
              "      <td>0.433</td>\n",
              "      <td>0.074</td>\n",
              "      <td>0.073</td>\n",
              "    </tr>\n",
              "    <tr>\n",
              "      <th>Iran</th>\n",
              "      <td>1.100</td>\n",
              "      <td>0.842</td>\n",
              "      <td>0.785</td>\n",
              "      <td>0.305</td>\n",
              "      <td>0.270</td>\n",
              "      <td>0.125</td>\n",
              "    </tr>\n",
              "    <tr>\n",
              "      <th>South Sudan</th>\n",
              "      <td>0.306</td>\n",
              "      <td>0.575</td>\n",
              "      <td>0.295</td>\n",
              "      <td>0.010</td>\n",
              "      <td>0.202</td>\n",
              "      <td>0.091</td>\n",
              "    </tr>\n",
              "  </tbody>\n",
              "</table>\n",
              "</div>\n",
              "      <button class=\"colab-df-convert\" onclick=\"convertToInteractive('df-d618385d-51f9-42a2-a16c-27908fa88e61')\"\n",
              "              title=\"Convert this dataframe to an interactive table.\"\n",
              "              style=\"display:none;\">\n",
              "        \n",
              "  <svg xmlns=\"http://www.w3.org/2000/svg\" height=\"24px\"viewBox=\"0 0 24 24\"\n",
              "       width=\"24px\">\n",
              "    <path d=\"M0 0h24v24H0V0z\" fill=\"none\"/>\n",
              "    <path d=\"M18.56 5.44l.94 2.06.94-2.06 2.06-.94-2.06-.94-.94-2.06-.94 2.06-2.06.94zm-11 1L8.5 8.5l.94-2.06 2.06-.94-2.06-.94L8.5 2.5l-.94 2.06-2.06.94zm10 10l.94 2.06.94-2.06 2.06-.94-2.06-.94-.94-2.06-.94 2.06-2.06.94z\"/><path d=\"M17.41 7.96l-1.37-1.37c-.4-.4-.92-.59-1.43-.59-.52 0-1.04.2-1.43.59L10.3 9.45l-7.72 7.72c-.78.78-.78 2.05 0 2.83L4 21.41c.39.39.9.59 1.41.59.51 0 1.02-.2 1.41-.59l7.78-7.78 2.81-2.81c.8-.78.8-2.07 0-2.86zM5.41 20L4 18.59l7.72-7.72 1.47 1.35L5.41 20z\"/>\n",
              "  </svg>\n",
              "      </button>\n",
              "      \n",
              "  <style>\n",
              "    .colab-df-container {\n",
              "      display:flex;\n",
              "      flex-wrap:wrap;\n",
              "      gap: 12px;\n",
              "    }\n",
              "\n",
              "    .colab-df-convert {\n",
              "      background-color: #E8F0FE;\n",
              "      border: none;\n",
              "      border-radius: 50%;\n",
              "      cursor: pointer;\n",
              "      display: none;\n",
              "      fill: #1967D2;\n",
              "      height: 32px;\n",
              "      padding: 0 0 0 0;\n",
              "      width: 32px;\n",
              "    }\n",
              "\n",
              "    .colab-df-convert:hover {\n",
              "      background-color: #E2EBFA;\n",
              "      box-shadow: 0px 1px 2px rgba(60, 64, 67, 0.3), 0px 1px 3px 1px rgba(60, 64, 67, 0.15);\n",
              "      fill: #174EA6;\n",
              "    }\n",
              "\n",
              "    [theme=dark] .colab-df-convert {\n",
              "      background-color: #3B4455;\n",
              "      fill: #D2E3FC;\n",
              "    }\n",
              "\n",
              "    [theme=dark] .colab-df-convert:hover {\n",
              "      background-color: #434B5C;\n",
              "      box-shadow: 0px 1px 3px 1px rgba(0, 0, 0, 0.15);\n",
              "      filter: drop-shadow(0px 1px 2px rgba(0, 0, 0, 0.3));\n",
              "      fill: #FFFFFF;\n",
              "    }\n",
              "  </style>\n",
              "\n",
              "      <script>\n",
              "        const buttonEl =\n",
              "          document.querySelector('#df-d618385d-51f9-42a2-a16c-27908fa88e61 button.colab-df-convert');\n",
              "        buttonEl.style.display =\n",
              "          google.colab.kernel.accessAllowed ? 'block' : 'none';\n",
              "\n",
              "        async function convertToInteractive(key) {\n",
              "          const element = document.querySelector('#df-d618385d-51f9-42a2-a16c-27908fa88e61');\n",
              "          const dataTable =\n",
              "            await google.colab.kernel.invokeFunction('convertToInteractive',\n",
              "                                                     [key], {});\n",
              "          if (!dataTable) return;\n",
              "\n",
              "          const docLinkHtml = 'Like what you see? Visit the ' +\n",
              "            '<a target=\"_blank\" href=https://colab.research.google.com/notebooks/data_table.ipynb>data table notebook</a>'\n",
              "            + ' to learn more about interactive tables.';\n",
              "          element.innerHTML = '';\n",
              "          dataTable['output_type'] = 'display_data';\n",
              "          await google.colab.output.renderOutput(dataTable, element);\n",
              "          const docLink = document.createElement('div');\n",
              "          docLink.innerHTML = docLinkHtml;\n",
              "          element.appendChild(docLink);\n",
              "        }\n",
              "      </script>\n",
              "    </div>\n",
              "  </div>\n",
              "  "
            ]
          },
          "metadata": {},
          "execution_count": 526
        }
      ]
    },
    {
      "cell_type": "code",
      "source": [
        "happiness_sample.transpose().plot(kind=\"bar\", title=\"World Happiness Report\")"
      ],
      "metadata": {
        "colab": {
          "base_uri": "https://localhost:8080/",
          "height": 434
        },
        "id": "k9qw5BUCxpLz",
        "outputId": "c73767a0-2475-445e-8827-142194802d0a"
      },
      "execution_count": 527,
      "outputs": [
        {
          "output_type": "execute_result",
          "data": {
            "text/plain": [
              "<matplotlib.axes._subplots.AxesSubplot at 0x7f96076e8850>"
            ]
          },
          "metadata": {},
          "execution_count": 527
        },
        {
          "output_type": "display_data",
          "data": {
            "text/plain": [
              "<Figure size 432x288 with 1 Axes>"
            ],
            "image/png": "[encoded data removed]"
          },
          "metadata": {
            "needs_background": "light"
          }
        }
      ]
    },
    {
      "cell_type": "markdown",
      "metadata": {
        "id": "wsuKiKyyXwnA"
      },
      "source": [
        "8.\tCrea una matriz de subgráficas de 2 x 3 con scatter plots del puntaje (`score`) versus los 6 factores para determinar qué factor influye más en la evaluación."
      ]
    },
    {
      "cell_type": "code",
      "metadata": {
        "id": "mz3cxg6la8ss",
        "colab": {
          "base_uri": "https://localhost:8080/",
          "height": 484
        },
        "outputId": "2a04a285-4847-49ab-b428-6d93cf3d9c91"
      },
      "source": [
        "fig, axs = plt.subplots(nrows=2, ncols=3, figsize=(15,10))\n",
        "\n",
        "happiness.plot(kind=\"scatter\", x=\"Score\", y=\"GDP per capita\", ax=axs[0,0], color=\"#66C2A5\")\n",
        "happiness.plot(kind=\"scatter\", x=\"Score\", y=\"Social support\", ax=axs[0,1], color=\"#66C2A5\")\n",
        "happiness.plot(kind=\"scatter\", x=\"Score\", y=\"Healthy life expectancy\", ax=axs[0,2], color=\"#66C2A5\")\n",
        "happiness.plot(kind=\"scatter\", x=\"Score\", y=\"Freedom to make life choices\", ax=axs[1,0], color=\"#66C2A5\")\n",
        "happiness.plot(kind=\"scatter\", x=\"Score\", y=\"Generosity\", ax=axs[1,1], color=\"#66C2A5\")\n",
        "happiness.plot(kind=\"scatter\", x=\"Score\", y=\"Perceptions of corruption\", ax=axs[1,2], color=\"#66C2A5\")\n",
        "\n",
        "fig.suptitle(\"Contribution in happiness score\", y=0.93, fontsize=18)"
      ],
      "execution_count": 538,
      "outputs": [
        {
          "output_type": "execute_result",
          "data": {
            "text/plain": [
              "Text(0.5, 0.93, 'Contribution in happiness score')"
            ]
          },
          "metadata": {},
          "execution_count": 538
        },
        {
          "output_type": "display_data",
          "data": {
            "text/plain": [
              "<Figure size 1080x720 with 6 Axes>"
            ],
            "image/png": "[encoded data removed]"
          },
          "metadata": {
            "needs_background": "light"
          }
        }
      ]
    },
    {
      "cell_type": "markdown",
      "metadata": {
        "id": "pN6r1Va8X0Kx"
      },
      "source": [
        "9.\tComprueba lo anterior con un heatmap donde incluyas los índices de correlación."
      ]
    },
    {
      "cell_type": "code",
      "metadata": {
        "id": "B6k-9ehfa8D6",
        "colab": {
          "base_uri": "https://localhost:8080/",
          "height": 434
        },
        "outputId": "93734118-109a-4c84-d6f4-0b0643f2cee6"
      },
      "source": [
        "heatmap = sns.heatmap(happiness.corr(), vmin=-1, vmax=1, annot=True)\n",
        "heatmap.set_title('Correlation Heatmap')"
      ],
      "execution_count": 529,
      "outputs": [
        {
          "output_type": "execute_result",
          "data": {
            "text/plain": [
              "Text(0.5, 1.0, 'Correlation Heatmap')"
            ]
          },
          "metadata": {},
          "execution_count": 529
        },
        {
          "output_type": "display_data",
          "data": {
            "text/plain": [
              "<Figure size 432x288 with 2 Axes>"
            ],
            "image/png": "[encoded data removed]"
          },
          "metadata": {
            "needs_background": "light"
          }
        }
      ]
    },
    {
      "cell_type": "markdown",
      "metadata": {
        "id": "wyMgjIxn7n8w"
      },
      "source": [
        "10.\tCombina con el dataframe `metada` (Metadata.csv) para graficar la felicidad promedio por región. "
      ]
    },
    {
      "cell_type": "code",
      "metadata": {
        "id": "guKiZavoa9b_"
      },
      "source": [
        "metadata = pd.read_csv(f\"{route}/Metadata.csv\")\n",
        "metadata = metadata.rename(columns={\"TableName\": \"Country or region\"})\n",
        "# metadata"
      ],
      "execution_count": 530,
      "outputs": []
    },
    {
      "cell_type": "code",
      "source": [
        "happiness_combined = happiness.merge(metadata, on=\"Country or region\")\n",
        "happiness_byregion_mean = happiness_combined[[\"Region\", \"Score\"]].groupby(\"Region\").mean().sort_values(by=\"Region\")\n",
        "happiness_byregion_mean"
      ],
      "metadata": {
        "colab": {
          "base_uri": "https://localhost:8080/",
          "height": 300
        },
        "id": "uq91m6El_68e",
        "outputId": "2e33d5b0-c9c8-43a8-cf9b-cbac005892be"
      },
      "execution_count": 531,
      "outputs": [
        {
          "output_type": "execute_result",
          "data": {
            "text/plain": [
              "                               Score\n",
              "Region                              \n",
              "East Asia & Pacific         5.658769\n",
              "Europe & Central Asia       6.104174\n",
              "Latin America & Caribbean   6.007579\n",
              "Middle East & North Africa  5.757429\n",
              "North America               7.085000\n",
              "South Asia                  4.526857\n",
              "Sub-Saharan Africa          4.260000"
            ],
            "text/html": [
              "\n",
              "  <div id=\"df-d4d6724c-1680-420e-bf1d-b71173262665\">\n",
              "    <div class=\"colab-df-container\">\n",
              "      <div>\n",
              "<style scoped>\n",
              "    .dataframe tbody tr th:only-of-type {\n",
              "        vertical-align: middle;\n",
              "    }\n",
              "\n",
              "    .dataframe tbody tr th {\n",
              "        vertical-align: top;\n",
              "    }\n",
              "\n",
              "    .dataframe thead th {\n",
              "        text-align: right;\n",
              "    }\n",
              "</style>\n",
              "<table border=\"1\" class=\"dataframe\">\n",
              "  <thead>\n",
              "    <tr style=\"text-align: right;\">\n",
              "      <th></th>\n",
              "      <th>Score</th>\n",
              "    </tr>\n",
              "    <tr>\n",
              "      <th>Region</th>\n",
              "      <th></th>\n",
              "    </tr>\n",
              "  </thead>\n",
              "  <tbody>\n",
              "    <tr>\n",
              "      <th>East Asia &amp; Pacific</th>\n",
              "      <td>5.658769</td>\n",
              "    </tr>\n",
              "    <tr>\n",
              "      <th>Europe &amp; Central Asia</th>\n",
              "      <td>6.104174</td>\n",
              "    </tr>\n",
              "    <tr>\n",
              "      <th>Latin America &amp; Caribbean</th>\n",
              "      <td>6.007579</td>\n",
              "    </tr>\n",
              "    <tr>\n",
              "      <th>Middle East &amp; North Africa</th>\n",
              "      <td>5.757429</td>\n",
              "    </tr>\n",
              "    <tr>\n",
              "      <th>North America</th>\n",
              "      <td>7.085000</td>\n",
              "    </tr>\n",
              "    <tr>\n",
              "      <th>South Asia</th>\n",
              "      <td>4.526857</td>\n",
              "    </tr>\n",
              "    <tr>\n",
              "      <th>Sub-Saharan Africa</th>\n",
              "      <td>4.260000</td>\n",
              "    </tr>\n",
              "  </tbody>\n",
              "</table>\n",
              "</div>\n",
              "      <button class=\"colab-df-convert\" onclick=\"convertToInteractive('df-d4d6724c-1680-420e-bf1d-b71173262665')\"\n",
              "              title=\"Convert this dataframe to an interactive table.\"\n",
              "              style=\"display:none;\">\n",
              "        \n",
              "  <svg xmlns=\"http://www.w3.org/2000/svg\" height=\"24px\"viewBox=\"0 0 24 24\"\n",
              "       width=\"24px\">\n",
              "    <path d=\"M0 0h24v24H0V0z\" fill=\"none\"/>\n",
              "    <path d=\"M18.56 5.44l.94 2.06.94-2.06 2.06-.94-2.06-.94-.94-2.06-.94 2.06-2.06.94zm-11 1L8.5 8.5l.94-2.06 2.06-.94-2.06-.94L8.5 2.5l-.94 2.06-2.06.94zm10 10l.94 2.06.94-2.06 2.06-.94-2.06-.94-.94-2.06-.94 2.06-2.06.94z\"/><path d=\"M17.41 7.96l-1.37-1.37c-.4-.4-.92-.59-1.43-.59-.52 0-1.04.2-1.43.59L10.3 9.45l-7.72 7.72c-.78.78-.78 2.05 0 2.83L4 21.41c.39.39.9.59 1.41.59.51 0 1.02-.2 1.41-.59l7.78-7.78 2.81-2.81c.8-.78.8-2.07 0-2.86zM5.41 20L4 18.59l7.72-7.72 1.47 1.35L5.41 20z\"/>\n",
              "  </svg>\n",
              "      </button>\n",
              "      \n",
              "  <style>\n",
              "    .colab-df-container {\n",
              "      display:flex;\n",
              "      flex-wrap:wrap;\n",
              "      gap: 12px;\n",
              "    }\n",
              "\n",
              "    .colab-df-convert {\n",
              "      background-color: #E8F0FE;\n",
              "      border: none;\n",
              "      border-radius: 50%;\n",
              "      cursor: pointer;\n",
              "      display: none;\n",
              "      fill: #1967D2;\n",
              "      height: 32px;\n",
              "      padding: 0 0 0 0;\n",
              "      width: 32px;\n",
              "    }\n",
              "\n",
              "    .colab-df-convert:hover {\n",
              "      background-color: #E2EBFA;\n",
              "      box-shadow: 0px 1px 2px rgba(60, 64, 67, 0.3), 0px 1px 3px 1px rgba(60, 64, 67, 0.15);\n",
              "      fill: #174EA6;\n",
              "    }\n",
              "\n",
              "    [theme=dark] .colab-df-convert {\n",
              "      background-color: #3B4455;\n",
              "      fill: #D2E3FC;\n",
              "    }\n",
              "\n",
              "    [theme=dark] .colab-df-convert:hover {\n",
              "      background-color: #434B5C;\n",
              "      box-shadow: 0px 1px 3px 1px rgba(0, 0, 0, 0.15);\n",
              "      filter: drop-shadow(0px 1px 2px rgba(0, 0, 0, 0.3));\n",
              "      fill: #FFFFFF;\n",
              "    }\n",
              "  </style>\n",
              "\n",
              "      <script>\n",
              "        const buttonEl =\n",
              "          document.querySelector('#df-d4d6724c-1680-420e-bf1d-b71173262665 button.colab-df-convert');\n",
              "        buttonEl.style.display =\n",
              "          google.colab.kernel.accessAllowed ? 'block' : 'none';\n",
              "\n",
              "        async function convertToInteractive(key) {\n",
              "          const element = document.querySelector('#df-d4d6724c-1680-420e-bf1d-b71173262665');\n",
              "          const dataTable =\n",
              "            await google.colab.kernel.invokeFunction('convertToInteractive',\n",
              "                                                     [key], {});\n",
              "          if (!dataTable) return;\n",
              "\n",
              "          const docLinkHtml = 'Like what you see? Visit the ' +\n",
              "            '<a target=\"_blank\" href=https://colab.research.google.com/notebooks/data_table.ipynb>data table notebook</a>'\n",
              "            + ' to learn more about interactive tables.';\n",
              "          element.innerHTML = '';\n",
              "          dataTable['output_type'] = 'display_data';\n",
              "          await google.colab.output.renderOutput(dataTable, element);\n",
              "          const docLink = document.createElement('div');\n",
              "          docLink.innerHTML = docLinkHtml;\n",
              "          element.appendChild(docLink);\n",
              "        }\n",
              "      </script>\n",
              "    </div>\n",
              "  </div>\n",
              "  "
            ]
          },
          "metadata": {},
          "execution_count": 531
        }
      ]
    },
    {
      "cell_type": "code",
      "source": [
        "happiness_region = sns.barplot(x=happiness_byregion_mean.index, y=\"Score\", data=happiness_byregion_mean)\n",
        "happiness_region.set(title=\"World Happiness Report\")\n",
        "plt.xticks(rotation=90)"
      ],
      "metadata": {
        "colab": {
          "base_uri": "https://localhost:8080/",
          "height": 437
        },
        "id": "lmLHfDqoBQB_",
        "outputId": "70ed4b31-0bb3-442e-9a82-4a995624916f"
      },
      "execution_count": 532,
      "outputs": [
        {
          "output_type": "execute_result",
          "data": {
            "text/plain": [
              "(array([0, 1, 2, 3, 4, 5, 6]), <a list of 7 Text major ticklabel objects>)"
            ]
          },
          "metadata": {},
          "execution_count": 532
        },
        {
          "output_type": "display_data",
          "data": {
            "text/plain": [
              "<Figure size 432x288 with 1 Axes>"
            ],
            "image/png": "[encoded data removed]"
          },
          "metadata": {
            "needs_background": "light"
          }
        }
      ]
    }
  ]
}